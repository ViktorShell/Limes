{
 "cells": [
  {
   "cell_type": "markdown",
   "id": "4bac0320-c6ce-4c9a-8439-46196107080b",
   "metadata": {},
   "source": [
    "# Limes\n",
    "Synchrounous execution time analysis"
   ]
  },
  {
   "cell_type": "code",
   "execution_count": null,
   "id": "551064cd-b98a-4fa7-99d2-37d607952753",
   "metadata": {},
   "outputs": [],
   "source": []
  }
 ],
 "metadata": {
  "kernelspec": {
   "display_name": "Python 3 (ipykernel)",
   "language": "python",
   "name": "python3"
  },
  "language_info": {
   "codemirror_mode": {
    "name": "ipython",
    "version": 3
   },
   "file_extension": ".py",
   "mimetype": "text/x-python",
   "name": "python",
   "nbconvert_exporter": "python",
   "pygments_lexer": "ipython3",
   "version": "3.13.3"
  }
 },
 "nbformat": 4,
 "nbformat_minor": 5
}
